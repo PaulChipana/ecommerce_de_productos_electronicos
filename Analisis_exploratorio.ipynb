{
  "cells": [
    {
      "cell_type": "code",
      "execution_count": 2,
      "metadata": {
        "id": "3gm5yR-ycIVi"
      },
      "outputs": [],
      "source": [
        "# Importando librerías necesarias\n",
        "import pandas as pd\n",
        "import matplotlib.pyplot as plt\n",
        "import seaborn as sns\n"
      ]
    },
    {
      "cell_type": "markdown",
      "source": [
        "## Leyendo y conociendo el Dataframe (tabla)"
      ],
      "metadata": {
        "id": "hmkj0G4HzULS"
      }
    },
    {
      "cell_type": "code",
      "execution_count": 29,
      "metadata": {
        "colab": {
          "base_uri": "https://localhost:8080/",
          "height": 206
        },
        "id": "YJowuWjccIVk",
        "outputId": "5d9bff58-518e-4aca-bf51-cf9be7eb9c5b"
      },
      "outputs": [
        {
          "output_type": "execute_result",
          "data": {
            "text/plain": [
              "                event_time event_type  product_id          category_id  \\\n",
              "0  2020-09-24 11:57:06 UTC       view     1996170  2144415922528452715   \n",
              "1  2020-09-24 11:57:26 UTC       view      139905  2144415926932472027   \n",
              "2  2020-09-24 11:57:27 UTC       view      215454  2144415927158964449   \n",
              "3  2020-09-24 11:57:33 UTC       view      635807  2144415923107266682   \n",
              "4  2020-09-24 11:57:36 UTC       view     3658723  2144415921169498184   \n",
              "\n",
              "                   category_code        brand   price              user_id  \\\n",
              "0          electronics.telephone          NaN   31.90  1515915625519388267   \n",
              "1    computers.components.cooler       zalman   17.16  1515915625519380411   \n",
              "2                            NaN          NaN    9.81  1515915625513238515   \n",
              "3  computers.peripherals.printer       pantum  113.81  1515915625519014356   \n",
              "4                            NaN  cameronsino   15.87  1515915625510743344   \n",
              "\n",
              "  user_session  \n",
              "0   LJuJVLEjPT  \n",
              "1   tdicluNnRY  \n",
              "2   4TMArHtXQy  \n",
              "3   aGFYrNgC08  \n",
              "4   aa4mmk0kwQ  "
            ],
            "text/html": [
              "\n",
              "  <div id=\"df-16c1a41d-f455-4e9f-b3b4-cd5db415399f\" class=\"colab-df-container\">\n",
              "    <div>\n",
              "<style scoped>\n",
              "    .dataframe tbody tr th:only-of-type {\n",
              "        vertical-align: middle;\n",
              "    }\n",
              "\n",
              "    .dataframe tbody tr th {\n",
              "        vertical-align: top;\n",
              "    }\n",
              "\n",
              "    .dataframe thead th {\n",
              "        text-align: right;\n",
              "    }\n",
              "</style>\n",
              "<table border=\"1\" class=\"dataframe\">\n",
              "  <thead>\n",
              "    <tr style=\"text-align: right;\">\n",
              "      <th></th>\n",
              "      <th>event_time</th>\n",
              "      <th>event_type</th>\n",
              "      <th>product_id</th>\n",
              "      <th>category_id</th>\n",
              "      <th>category_code</th>\n",
              "      <th>brand</th>\n",
              "      <th>price</th>\n",
              "      <th>user_id</th>\n",
              "      <th>user_session</th>\n",
              "    </tr>\n",
              "  </thead>\n",
              "  <tbody>\n",
              "    <tr>\n",
              "      <th>0</th>\n",
              "      <td>2020-09-24 11:57:06 UTC</td>\n",
              "      <td>view</td>\n",
              "      <td>1996170</td>\n",
              "      <td>2144415922528452715</td>\n",
              "      <td>electronics.telephone</td>\n",
              "      <td>NaN</td>\n",
              "      <td>31.90</td>\n",
              "      <td>1515915625519388267</td>\n",
              "      <td>LJuJVLEjPT</td>\n",
              "    </tr>\n",
              "    <tr>\n",
              "      <th>1</th>\n",
              "      <td>2020-09-24 11:57:26 UTC</td>\n",
              "      <td>view</td>\n",
              "      <td>139905</td>\n",
              "      <td>2144415926932472027</td>\n",
              "      <td>computers.components.cooler</td>\n",
              "      <td>zalman</td>\n",
              "      <td>17.16</td>\n",
              "      <td>1515915625519380411</td>\n",
              "      <td>tdicluNnRY</td>\n",
              "    </tr>\n",
              "    <tr>\n",
              "      <th>2</th>\n",
              "      <td>2020-09-24 11:57:27 UTC</td>\n",
              "      <td>view</td>\n",
              "      <td>215454</td>\n",
              "      <td>2144415927158964449</td>\n",
              "      <td>NaN</td>\n",
              "      <td>NaN</td>\n",
              "      <td>9.81</td>\n",
              "      <td>1515915625513238515</td>\n",
              "      <td>4TMArHtXQy</td>\n",
              "    </tr>\n",
              "    <tr>\n",
              "      <th>3</th>\n",
              "      <td>2020-09-24 11:57:33 UTC</td>\n",
              "      <td>view</td>\n",
              "      <td>635807</td>\n",
              "      <td>2144415923107266682</td>\n",
              "      <td>computers.peripherals.printer</td>\n",
              "      <td>pantum</td>\n",
              "      <td>113.81</td>\n",
              "      <td>1515915625519014356</td>\n",
              "      <td>aGFYrNgC08</td>\n",
              "    </tr>\n",
              "    <tr>\n",
              "      <th>4</th>\n",
              "      <td>2020-09-24 11:57:36 UTC</td>\n",
              "      <td>view</td>\n",
              "      <td>3658723</td>\n",
              "      <td>2144415921169498184</td>\n",
              "      <td>NaN</td>\n",
              "      <td>cameronsino</td>\n",
              "      <td>15.87</td>\n",
              "      <td>1515915625510743344</td>\n",
              "      <td>aa4mmk0kwQ</td>\n",
              "    </tr>\n",
              "  </tbody>\n",
              "</table>\n",
              "</div>\n",
              "    <div class=\"colab-df-buttons\">\n",
              "\n",
              "  <div class=\"colab-df-container\">\n",
              "    <button class=\"colab-df-convert\" onclick=\"convertToInteractive('df-16c1a41d-f455-4e9f-b3b4-cd5db415399f')\"\n",
              "            title=\"Convert this dataframe to an interactive table.\"\n",
              "            style=\"display:none;\">\n",
              "\n",
              "  <svg xmlns=\"http://www.w3.org/2000/svg\" height=\"24px\" viewBox=\"0 -960 960 960\">\n",
              "    <path d=\"M120-120v-720h720v720H120Zm60-500h600v-160H180v160Zm220 220h160v-160H400v160Zm0 220h160v-160H400v160ZM180-400h160v-160H180v160Zm440 0h160v-160H620v160ZM180-180h160v-160H180v160Zm440 0h160v-160H620v160Z\"/>\n",
              "  </svg>\n",
              "    </button>\n",
              "\n",
              "  <style>\n",
              "    .colab-df-container {\n",
              "      display:flex;\n",
              "      gap: 12px;\n",
              "    }\n",
              "\n",
              "    .colab-df-convert {\n",
              "      background-color: #E8F0FE;\n",
              "      border: none;\n",
              "      border-radius: 50%;\n",
              "      cursor: pointer;\n",
              "      display: none;\n",
              "      fill: #1967D2;\n",
              "      height: 32px;\n",
              "      padding: 0 0 0 0;\n",
              "      width: 32px;\n",
              "    }\n",
              "\n",
              "    .colab-df-convert:hover {\n",
              "      background-color: #E2EBFA;\n",
              "      box-shadow: 0px 1px 2px rgba(60, 64, 67, 0.3), 0px 1px 3px 1px rgba(60, 64, 67, 0.15);\n",
              "      fill: #174EA6;\n",
              "    }\n",
              "\n",
              "    .colab-df-buttons div {\n",
              "      margin-bottom: 4px;\n",
              "    }\n",
              "\n",
              "    [theme=dark] .colab-df-convert {\n",
              "      background-color: #3B4455;\n",
              "      fill: #D2E3FC;\n",
              "    }\n",
              "\n",
              "    [theme=dark] .colab-df-convert:hover {\n",
              "      background-color: #434B5C;\n",
              "      box-shadow: 0px 1px 3px 1px rgba(0, 0, 0, 0.15);\n",
              "      filter: drop-shadow(0px 1px 2px rgba(0, 0, 0, 0.3));\n",
              "      fill: #FFFFFF;\n",
              "    }\n",
              "  </style>\n",
              "\n",
              "    <script>\n",
              "      const buttonEl =\n",
              "        document.querySelector('#df-16c1a41d-f455-4e9f-b3b4-cd5db415399f button.colab-df-convert');\n",
              "      buttonEl.style.display =\n",
              "        google.colab.kernel.accessAllowed ? 'block' : 'none';\n",
              "\n",
              "      async function convertToInteractive(key) {\n",
              "        const element = document.querySelector('#df-16c1a41d-f455-4e9f-b3b4-cd5db415399f');\n",
              "        const dataTable =\n",
              "          await google.colab.kernel.invokeFunction('convertToInteractive',\n",
              "                                                    [key], {});\n",
              "        if (!dataTable) return;\n",
              "\n",
              "        const docLinkHtml = 'Like what you see? Visit the ' +\n",
              "          '<a target=\"_blank\" href=https://colab.research.google.com/notebooks/data_table.ipynb>data table notebook</a>'\n",
              "          + ' to learn more about interactive tables.';\n",
              "        element.innerHTML = '';\n",
              "        dataTable['output_type'] = 'display_data';\n",
              "        await google.colab.output.renderOutput(dataTable, element);\n",
              "        const docLink = document.createElement('div');\n",
              "        docLink.innerHTML = docLinkHtml;\n",
              "        element.appendChild(docLink);\n",
              "      }\n",
              "    </script>\n",
              "  </div>\n",
              "\n",
              "\n",
              "<div id=\"df-2ad7f57f-c037-4a1c-bd4d-89b5ac9ee5ee\">\n",
              "  <button class=\"colab-df-quickchart\" onclick=\"quickchart('df-2ad7f57f-c037-4a1c-bd4d-89b5ac9ee5ee')\"\n",
              "            title=\"Suggest charts.\"\n",
              "            style=\"display:none;\">\n",
              "\n",
              "<svg xmlns=\"http://www.w3.org/2000/svg\" height=\"24px\"viewBox=\"0 0 24 24\"\n",
              "     width=\"24px\">\n",
              "    <g>\n",
              "        <path d=\"M19 3H5c-1.1 0-2 .9-2 2v14c0 1.1.9 2 2 2h14c1.1 0 2-.9 2-2V5c0-1.1-.9-2-2-2zM9 17H7v-7h2v7zm4 0h-2V7h2v10zm4 0h-2v-4h2v4z\"/>\n",
              "    </g>\n",
              "</svg>\n",
              "  </button>\n",
              "\n",
              "<style>\n",
              "  .colab-df-quickchart {\n",
              "      --bg-color: #E8F0FE;\n",
              "      --fill-color: #1967D2;\n",
              "      --hover-bg-color: #E2EBFA;\n",
              "      --hover-fill-color: #174EA6;\n",
              "      --disabled-fill-color: #AAA;\n",
              "      --disabled-bg-color: #DDD;\n",
              "  }\n",
              "\n",
              "  [theme=dark] .colab-df-quickchart {\n",
              "      --bg-color: #3B4455;\n",
              "      --fill-color: #D2E3FC;\n",
              "      --hover-bg-color: #434B5C;\n",
              "      --hover-fill-color: #FFFFFF;\n",
              "      --disabled-bg-color: #3B4455;\n",
              "      --disabled-fill-color: #666;\n",
              "  }\n",
              "\n",
              "  .colab-df-quickchart {\n",
              "    background-color: var(--bg-color);\n",
              "    border: none;\n",
              "    border-radius: 50%;\n",
              "    cursor: pointer;\n",
              "    display: none;\n",
              "    fill: var(--fill-color);\n",
              "    height: 32px;\n",
              "    padding: 0;\n",
              "    width: 32px;\n",
              "  }\n",
              "\n",
              "  .colab-df-quickchart:hover {\n",
              "    background-color: var(--hover-bg-color);\n",
              "    box-shadow: 0 1px 2px rgba(60, 64, 67, 0.3), 0 1px 3px 1px rgba(60, 64, 67, 0.15);\n",
              "    fill: var(--button-hover-fill-color);\n",
              "  }\n",
              "\n",
              "  .colab-df-quickchart-complete:disabled,\n",
              "  .colab-df-quickchart-complete:disabled:hover {\n",
              "    background-color: var(--disabled-bg-color);\n",
              "    fill: var(--disabled-fill-color);\n",
              "    box-shadow: none;\n",
              "  }\n",
              "\n",
              "  .colab-df-spinner {\n",
              "    border: 2px solid var(--fill-color);\n",
              "    border-color: transparent;\n",
              "    border-bottom-color: var(--fill-color);\n",
              "    animation:\n",
              "      spin 1s steps(1) infinite;\n",
              "  }\n",
              "\n",
              "  @keyframes spin {\n",
              "    0% {\n",
              "      border-color: transparent;\n",
              "      border-bottom-color: var(--fill-color);\n",
              "      border-left-color: var(--fill-color);\n",
              "    }\n",
              "    20% {\n",
              "      border-color: transparent;\n",
              "      border-left-color: var(--fill-color);\n",
              "      border-top-color: var(--fill-color);\n",
              "    }\n",
              "    30% {\n",
              "      border-color: transparent;\n",
              "      border-left-color: var(--fill-color);\n",
              "      border-top-color: var(--fill-color);\n",
              "      border-right-color: var(--fill-color);\n",
              "    }\n",
              "    40% {\n",
              "      border-color: transparent;\n",
              "      border-right-color: var(--fill-color);\n",
              "      border-top-color: var(--fill-color);\n",
              "    }\n",
              "    60% {\n",
              "      border-color: transparent;\n",
              "      border-right-color: var(--fill-color);\n",
              "    }\n",
              "    80% {\n",
              "      border-color: transparent;\n",
              "      border-right-color: var(--fill-color);\n",
              "      border-bottom-color: var(--fill-color);\n",
              "    }\n",
              "    90% {\n",
              "      border-color: transparent;\n",
              "      border-bottom-color: var(--fill-color);\n",
              "    }\n",
              "  }\n",
              "</style>\n",
              "\n",
              "  <script>\n",
              "    async function quickchart(key) {\n",
              "      const quickchartButtonEl =\n",
              "        document.querySelector('#' + key + ' button');\n",
              "      quickchartButtonEl.disabled = true;  // To prevent multiple clicks.\n",
              "      quickchartButtonEl.classList.add('colab-df-spinner');\n",
              "      try {\n",
              "        const charts = await google.colab.kernel.invokeFunction(\n",
              "            'suggestCharts', [key], {});\n",
              "      } catch (error) {\n",
              "        console.error('Error during call to suggestCharts:', error);\n",
              "      }\n",
              "      quickchartButtonEl.classList.remove('colab-df-spinner');\n",
              "      quickchartButtonEl.classList.add('colab-df-quickchart-complete');\n",
              "    }\n",
              "    (() => {\n",
              "      let quickchartButtonEl =\n",
              "        document.querySelector('#df-2ad7f57f-c037-4a1c-bd4d-89b5ac9ee5ee button');\n",
              "      quickchartButtonEl.style.display =\n",
              "        google.colab.kernel.accessAllowed ? 'block' : 'none';\n",
              "    })();\n",
              "  </script>\n",
              "</div>\n",
              "    </div>\n",
              "  </div>\n"
            ]
          },
          "metadata": {},
          "execution_count": 29
        }
      ],
      "source": [
        "# Leer el archivo CSV en un DataFrame\n",
        "url = \"https://second-public-bucket-acl-enabled.s3.us-east-2.amazonaws.com/ecommerce_events_history_in_electronic_store.csv\"\n",
        "df = pd.read_csv(url)\n",
        "\n",
        "# Mostrar las 5 primeras filas del DataFrame\n",
        "df.head()\n"
      ]
    },
    {
      "cell_type": "code",
      "execution_count": 4,
      "metadata": {
        "colab": {
          "base_uri": "https://localhost:8080/"
        },
        "id": "cuiuzmaQcIVl",
        "outputId": "946fae79-4a6c-4ffa-f064-1a9b78c4506b"
      },
      "outputs": [
        {
          "output_type": "stream",
          "name": "stdout",
          "text": [
            "<class 'pandas.core.frame.DataFrame'>\n",
            "RangeIndex: 885129 entries, 0 to 885128\n",
            "Data columns (total 9 columns):\n",
            " #   Column         Non-Null Count   Dtype  \n",
            "---  ------         --------------   -----  \n",
            " 0   event_time     885129 non-null  object \n",
            " 1   event_type     885129 non-null  object \n",
            " 2   product_id     885129 non-null  int64  \n",
            " 3   category_id    885129 non-null  int64  \n",
            " 4   category_code  648910 non-null  object \n",
            " 5   brand          672765 non-null  object \n",
            " 6   price          885129 non-null  float64\n",
            " 7   user_id        885129 non-null  int64  \n",
            " 8   user_session   884964 non-null  object \n",
            "dtypes: float64(1), int64(3), object(5)\n",
            "memory usage: 60.8+ MB\n",
            "None\n"
          ]
        }
      ],
      "source": [
        "# Tipo de datos de las columnas y cantidad de No-nulos por columna del DataFrame\n",
        "print(df.info())"
      ]
    },
    {
      "cell_type": "code",
      "source": [
        "# Valores NULOS por columna\n",
        "print(df.isna().sum())"
      ],
      "metadata": {
        "colab": {
          "base_uri": "https://localhost:8080/"
        },
        "id": "a3eqOhKEyAau",
        "outputId": "7049441d-003a-48d9-cde0-d26cfa8eeff2"
      },
      "execution_count": 30,
      "outputs": [
        {
          "output_type": "stream",
          "name": "stdout",
          "text": [
            "event_time            0\n",
            "event_type            0\n",
            "product_id            0\n",
            "category_id           0\n",
            "category_code    236219\n",
            "brand            212364\n",
            "price                 0\n",
            "user_id               0\n",
            "user_session        165\n",
            "dtype: int64\n"
          ]
        }
      ]
    },
    {
      "cell_type": "markdown",
      "source": [
        "Al encontrar más de 200 000 registros en blanco o nulos dentro de los campos \"brand\" y \"category_code\" no deberían de tomarse en cuenta para análisis posteriores.\n",
        "\n",
        "Sin embargo, aún sería útil utilizar el campo category_code por ser complemento de category_id para consultar el nombre de cada categoría de cada producto siempre que category_code no sea un valor vacío. Asimismo, en un futuro aún se podría subsanar la carencia de integridad del campo category_code utilizando la data de category_id  y tablas con registros históricos de meses y años pasados."
      ],
      "metadata": {
        "id": "nCTM4BnMGhZN"
      }
    },
    {
      "cell_type": "code",
      "source": [
        "# Valores Vacios(Blancos) por columna\n",
        "print(df.applymap(lambda x: x == '').sum())"
      ],
      "metadata": {
        "colab": {
          "base_uri": "https://localhost:8080/"
        },
        "id": "iIf9A40pUn4u",
        "outputId": "1dea3011-53a5-46fc-b219-7be0ee3f89c8"
      },
      "execution_count": 23,
      "outputs": [
        {
          "output_type": "execute_result",
          "data": {
            "text/plain": [
              "event_time       0\n",
              "event_type       0\n",
              "product_id       0\n",
              "category_id      0\n",
              "category_code    0\n",
              "brand            0\n",
              "price            0\n",
              "user_id          0\n",
              "user_session     0\n",
              "dtype: int64"
            ]
          },
          "metadata": {},
          "execution_count": 23
        }
      ]
    },
    {
      "cell_type": "code",
      "source": [
        "# Valores unicos por columna\n",
        "print(df.nunique())"
      ],
      "metadata": {
        "colab": {
          "base_uri": "https://localhost:8080/"
        },
        "id": "URpBN0VTuirm",
        "outputId": "e16ef82e-a9aa-4866-e5d3-261d1407c8f3"
      },
      "execution_count": 6,
      "outputs": [
        {
          "output_type": "execute_result",
          "data": {
            "text/plain": [
              "event_time       845041\n",
              "event_type            3\n",
              "product_id        53453\n",
              "category_id         718\n",
              "category_code       107\n",
              "brand               999\n",
              "price             12422\n",
              "user_id          407283\n",
              "user_session     490398\n",
              "dtype: int64"
            ]
          },
          "metadata": {},
          "execution_count": 6
        }
      ]
    },
    {
      "cell_type": "markdown",
      "source": [
        "## Analizando Variables"
      ],
      "metadata": {
        "id": "tpvmpBsvdMHo"
      }
    },
    {
      "cell_type": "markdown",
      "source": [
        "### Variable Tipo de Evento"
      ],
      "metadata": {
        "id": "FuIhRCw8_aUY"
      }
    },
    {
      "cell_type": "code",
      "source": [
        "# Cantidad de eventos por tipo de evento\n",
        "print(df['event_type'].value_counts())"
      ],
      "metadata": {
        "colab": {
          "base_uri": "https://localhost:8080/"
        },
        "id": "UMyAhPJpxrPc",
        "outputId": "36427be8-397f-4044-bc48-9bbc91278fc3"
      },
      "execution_count": 31,
      "outputs": [
        {
          "output_type": "stream",
          "name": "stdout",
          "text": [
            "view        793748\n",
            "cart         54035\n",
            "purchase     37346\n",
            "Name: event_type, dtype: int64\n"
          ]
        }
      ]
    },
    {
      "cell_type": "code",
      "execution_count": 27,
      "metadata": {
        "colab": {
          "base_uri": "https://localhost:8080/",
          "height": 374
        },
        "id": "6t_HCZJAcIVm",
        "outputId": "e3d2a5f7-6738-442d-ec9e-da5d22c9e316"
      },
      "outputs": [
        {
          "output_type": "display_data",
          "data": {
            "text/plain": [
              "<Figure size 500x300 with 1 Axes>"
            ],
            "image/png": "[encoded data removed]"
          },
          "metadata": {}
        }
      ],
      "source": [
        "# Gráfico de barras de los tipos de eventos\n",
        "plt.figure(figsize=(5, 3))\n",
        "sns.countplot(data=df, x=\"event_type\")\n",
        "plt.title(\"Cantidad de Eventos por Tipo\")\n",
        "plt.xlabel(\"Tipo de Evento\")\n",
        "plt.ylabel(\"Cantidad\")\n",
        "plt.xticks(rotation=45)\n",
        "plt.show()"
      ]
    },
    {
      "cell_type": "markdown",
      "source": [
        "### Variable Precio\n",
        "Me permite conocer cómo está compuesto el precio, que tan alejados están entre si y cuál es su distribución"
      ],
      "metadata": {
        "id": "qHxGtO6txVm4"
      }
    },
    {
      "cell_type": "code",
      "execution_count": 28,
      "metadata": {
        "colab": {
          "base_uri": "https://localhost:8080/"
        },
        "id": "mHekgydBcIVl",
        "outputId": "342203e4-d0ac-4238-a100-94e8359269a2"
      },
      "outputs": [
        {
          "output_type": "stream",
          "name": "stdout",
          "text": [
            "count    885129.00\n",
            "mean        146.33\n",
            "std         296.81\n",
            "min           0.22\n",
            "25%          26.46\n",
            "50%          65.71\n",
            "75%         190.49\n",
            "max       64771.06\n",
            "Name: price, dtype: float64\n"
          ]
        }
      ],
      "source": [
        "# Estadísticas descriptivas de columna \"price\" (única variable cuantitativa)\n",
        "print(df.price.describe().round(2))\n"
      ]
    },
    {
      "cell_type": "markdown",
      "source": [
        "La variable \"price\" muestra una amplia gama de valores, desde un mínimo de 0.22 hasta un máximo de 64771.06. La media (146.33) es menor que la mediana (65.71), lo que podría indicar que hay valores atípicos (outliers) en el extremo superior de la distribución de precios, además de una mayor acumulación de valores por debajo del promedio (146.33) que por encima del mismo.\n",
        "\n",
        "Los valores del primer cuartil (25%) y tercer cuartil (75%) indican que la mayoría de los precios caen dentro de un rango relativamente amplio entre 26.46 y 190.49."
      ],
      "metadata": {
        "id": "PRfTvc3o4RnI"
      }
    },
    {
      "cell_type": "code",
      "source": [
        "# Histograma de precio\n",
        "plt.figure(figsize=(10, 6))\n",
        "plt.hist(df.price, bins=100, range=(0,1500), color='skyblue', edgecolor='black')\n",
        "plt.xlabel('Price')\n",
        "plt.ylabel('Frequency')\n",
        "plt.title('Histogram of Price')\n",
        "plt.show()"
      ],
      "metadata": {
        "colab": {
          "base_uri": "https://localhost:8080/",
          "height": 564
        },
        "id": "CuPbakT03F6J",
        "outputId": "deac2c49-949c-44cd-bb65-ab345911be3d"
      },
      "execution_count": 24,
      "outputs": [
        {
          "output_type": "display_data",
          "data": {
            "text/plain": [
              "<Figure size 1000x600 with 1 Axes>"
            ],
            "image/png": "[encoded data removed]"
          },
          "metadata": {}
        }
      ]
    },
    {
      "cell_type": "markdown",
      "source": [
        "- Al ser el promedio mucho más alto que la media, esto indicaría que hay mayor cantidad de valores menores con respecto al promedio (146.33) y la curvatura de la distribución esta hacia la izquierda"
      ],
      "metadata": {
        "id": "TMYPQdqrArcq"
      }
    },
    {
      "cell_type": "code",
      "source": [
        "# Boxplot\n",
        "plt.figure(figsize=(7.5, 4.5))\n",
        "sns.boxplot(data=df.price, color='lightgreen')\n",
        "plt.xlabel('Price')\n",
        "plt.title('Box Plot of Price')\n",
        "\n",
        "# Ajustar el rango del eje y (vertical)\n",
        "plt.ylim(0, 1500)\n",
        "\n",
        "plt.show()"
      ],
      "metadata": {
        "colab": {
          "base_uri": "https://localhost:8080/",
          "height": 449
        },
        "id": "DN1vYIwe545Q",
        "outputId": "0dbcd4d9-33b8-4226-fd6b-9489e32fda7b"
      },
      "execution_count": 25,
      "outputs": [
        {
          "output_type": "display_data",
          "data": {
            "text/plain": [
              "<Figure size 750x450 with 1 Axes>"
            ],
            "image/png": "[encoded data removed]"
          },
          "metadata": {}
        }
      ]
    },
    {
      "cell_type": "markdown",
      "source": [
        "Demasiados valores atípicos (outliers) en el extremo superior de la distribución de precios por encima del Q3+1.5*IQR. Los valores que superan Q3+1.5*IQR no necesariamente deben ser eliminados, se analizará el contexto de estos datos y se tomará una decisión."
      ],
      "metadata": {
        "id": "e2U26-3--wMy"
      }
    }
  ],
  "metadata": {
    "kernelspec": {
      "display_name": "Python 3",
      "language": "python",
      "name": "python3"
    },
    "language_info": {
      "codemirror_mode": {
        "name": "ipython",
        "version": 3
      },
      "file_extension": ".py",
      "mimetype": "text/x-python",
      "name": "python",
      "nbconvert_exporter": "python",
      "pygments_lexer": "ipython3",
      "version": "3.10.9"
    },
    "orig_nbformat": 4,
    "colab": {
      "provenance": []
    }
  },
  "nbformat": 4,
  "nbformat_minor": 0
}